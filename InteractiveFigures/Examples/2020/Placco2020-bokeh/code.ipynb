{
 "cells": [
  {
   "cell_type": "code",
   "execution_count": 1,
   "metadata": {
    "collapsed": false,
    "deletable": true,
    "editable": true
   },
   "outputs": [],
   "source": [
    "import pandas as pd\n",
    "from bokeh.io import output_file, show\n",
    "from bokeh.plotting import figure, show, output_file\n",
    "from bokeh.layouts import gridplot\n",
    "from bokeh.models import SingleIntervalTicker, NumeralTickFormatter\n",
    "from bokeh.models import ColumnDataSource, HoverTool, LabelSet, Range1d\n",
    "from bokeh.models.tickers import FixedTicker"
   ]
  },
  {
   "cell_type": "code",
   "execution_count": 2,
   "metadata": {
    "collapsed": false,
    "deletable": true,
    "editable": true
   },
   "outputs": [
    {
     "name": "stdout",
     "output_type": "stream",
     "text": [
      "3.7.6 (default, Jan 23 2020, 14:18:11) \n",
      "[Clang 11.0.0 (clang-1100.0.33.17)]\n",
      "1.3.4\n"
     ]
    }
   ],
   "source": [
    "import sys\n",
    "import bokeh\n",
    "print(sys.version)\n",
    "print(bokeh.__version__)"
   ]
  },
  {
   "cell_type": "code",
   "execution_count": 3,
   "metadata": {
    "collapsed": false,
    "deletable": true,
    "editable": true
   },
   "outputs": [],
   "source": [
    "##### read csv version of medium and high resolution spectra #####\n",
    "\n",
    "high=pd.read_csv(\"high.csv\")\n",
    "medi=pd.read_csv(\"medi.csv\")"
   ]
  },
  {
   "cell_type": "code",
   "execution_count": 4,
   "metadata": {
    "collapsed": false,
    "deletable": true,
    "editable": true
   },
   "outputs": [],
   "source": [
    "##### list bokeh tools #####\n",
    "\n",
    "TOOLS=\"crosshair,pan,wheel_zoom,zoom_in,zoom_out,box_zoom,undo,redo,reset,tap,save,box_select,poly_select\"\n",
    "\n",
    "##### define data sources #####\n",
    "\n",
    "sourcem=ColumnDataSource(medi)\n",
    "sourceh=ColumnDataSource(high)\n",
    "\n",
    "##### upper panel - screenshot from Figure 1 on manuscript #####\n",
    "\n",
    "# most of these are just to get rid of all axis, tick marks, etc.\n",
    "\n",
    "pi = figure(tools=TOOLS,plot_width=1000, plot_height=206)\n",
    "pi.x_range=Range1d(0,1, bounds=\"auto\")\n",
    "pi.y_range=Range1d(0,1, bounds=\"auto\")\n",
    "pi.x_range.min_interval = None\n",
    "pi.x_range.max_interval = 1\n",
    "pi.xaxis.major_tick_line_color = None\n",
    "pi.xaxis.minor_tick_line_color = None\n",
    "pi.yaxis.major_tick_line_color = None\n",
    "pi.yaxis.minor_tick_line_color = None\n",
    "pi.xaxis.major_label_text_color = None\n",
    "pi.yaxis.major_label_text_color = None\n",
    "pi.axis.visible = False\n",
    "pi.image_url(url=['figure.png'], x=0, y=1, w=1, h=1)\n",
    "\n",
    "##### middle panel - medium-resolution spectrum #####\n",
    "\n",
    "pm = figure(tools=TOOLS,plot_width=1000, plot_height=400)\n",
    "pm.xaxis.axis_label = 'λ(Å)'\n",
    "pm.yaxis.axis_label = 'Normalized Flux'\n",
    "pm.x_range=Range1d(3450,5050, bounds=\"auto\")\n",
    "pm.y_range=Range1d(-0.001,1.2001, bounds=\"auto\")\n",
    "pm.yaxis.formatter=NumeralTickFormatter(format=\"0.00\")\n",
    "pm.xgrid.grid_line_color = None\n",
    "pm.ygrid.grid_line_color = None\n",
    "pm.axis.major_tick_in  = 10\n",
    "pm.axis.major_tick_out = 0\n",
    "pm.axis.minor_tick_in  = 5\n",
    "pm.axis.minor_tick_out = 0\n",
    "pm.xaxis.ticker = FixedTicker(ticks=[3500,3750,4000,4250,4500,4750,5000], minor_ticks=[3550,3600,3650,3700,3800,3850,\n",
    "                                                                                       3900,3950,4050,4100,4150,4200,\n",
    "                                                                                       4300,4350,4400,4450,4550,4600,\n",
    "                                                                                       4650,4700,4800,4850,4900,4950])\n",
    "pm.rect([3890], [0.6], [64], [1.2], fill_color=\"#8DB6CD\", alpha=0.3, line_width=0)\n",
    "pm.rect([4078], [0.6], [20], [1.2], fill_color=\"#70DB93\", alpha=0.3, line_width=0)\n",
    "pm.rect([4330], [0.6], [64], [1.2], fill_color=\"#888888\", alpha=0.3, line_width=0)\n",
    "pm.rect([4558], [0.6], [20], [1.2], fill_color=\"#EE6363\", alpha=0.3, line_width=0)\n",
    "pm.line(\"wave\",\"flux\",source=sourcem, color=\"#222222\", alpha=0.5, line_width=3.0, legend=\"NTT/EFOSC-2\", name='linett')\n",
    "\n",
    "h = HoverTool(names=['linett'])\n",
    "pm.tools.append(h)\n",
    "pm.hover.tooltips = [(\"λ(Å)\", \"@wave{1111.11}\"),(\"Norm. Flux\", \"@flux{1.11}\")]\n",
    "pm.legend.location = \"bottom_right\"\n",
    "\n",
    "##### lower panel - high-resolution spectrum #####\n",
    "\n",
    "ph = figure(tools=TOOLS,plot_width=1000, plot_height=400)\n",
    "ph.xaxis.axis_label = 'λ(Å)'\n",
    "ph.yaxis.axis_label = 'Normalized Flux'\n",
    "ph.x_range=pm.x_range\n",
    "ph.y_range=pm.y_range\n",
    "ph.yaxis.formatter=NumeralTickFormatter(format=\"0.00\")\n",
    "ph.xgrid.grid_line_color = None\n",
    "ph.ygrid.grid_line_color = None\n",
    "ph.axis.major_tick_in  = 10\n",
    "ph.axis.major_tick_out = 0\n",
    "ph.axis.minor_tick_in  = 5\n",
    "ph.axis.minor_tick_out = 0\n",
    "ph.xaxis.ticker = FixedTicker(ticks=[3500,3750,4000,4250,4500,4750,5000], minor_ticks=[3550,3600,3650,3700,3800,3850,\n",
    "                                                                                       3900,3950,4050,4100,4150,4200,\n",
    "                                                                                       4300,4350,4400,4450,4550,4600,\n",
    "                                                                                       4650,4700,4800,4850,4900,4950])\n",
    "ph.rect([3890], [0.6], [64], [1.2], fill_color=\"#8DB6CD\", alpha=0.3, line_width=0)\n",
    "ph.rect([4078], [0.6], [20], [1.2], fill_color=\"#70DB93\", alpha=0.3, line_width=0)\n",
    "ph.rect([4330], [0.6], [64], [1.2], fill_color=\"#888888\", alpha=0.3, line_width=0)\n",
    "ph.rect([4558], [0.6], [20], [1.2], fill_color=\"#EE6363\", alpha=0.3, line_width=0)\n",
    "ph.line(\"wave\",\"flux\",source=sourceh, color=\"#222222\", alpha=0.8,line_width=1.0,legend=\"Magellan/MIKE\",name='linetth')\n",
    "\n",
    "h = HoverTool(names=['linetth'])\n",
    "ph.add_tools(h)\n",
    "ph.hover.tooltips = [(\"λ(Å)\", \"@wave{1111.11}\"),(\"Norm. Flux\", \"@flux{1.11}\")]\n",
    "ph.legend.location = \"bottom_right\"\n",
    "\n",
    "##### combine panels in a 3x1 grid #####\n",
    "\n",
    "p = gridplot([[pi], [pm], [ph]], toolbar_location=\"right\")\n",
    "\n",
    "##### save output to html #####\n",
    "\n",
    "output_file(\"example_output.html\", title=\"Example Spectra\")\n",
    "\n",
    "show(p)  # open a browser"
   ]
  },
  {
   "cell_type": "code",
   "execution_count": null,
   "metadata": {
    "collapsed": true,
    "deletable": true,
    "editable": true
   },
   "outputs": [],
   "source": []
  }
 ],
 "metadata": {
  "kernelspec": {
   "display_name": "Python 3",
   "language": "python",
   "name": "python3"
  },
  "language_info": {
   "codemirror_mode": {
    "name": "ipython",
    "version": 3
   },
   "file_extension": ".py",
   "mimetype": "text/x-python",
   "name": "python",
   "nbconvert_exporter": "python",
   "pygments_lexer": "ipython3",
   "version": "3.7.6"
  }
 },
 "nbformat": 4,
 "nbformat_minor": 2
}
